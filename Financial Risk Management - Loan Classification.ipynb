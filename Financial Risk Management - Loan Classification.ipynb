{
 "cells": [
  {
   "cell_type": "markdown",
   "metadata": {},
   "source": [
    "# Loan Classification"
   ]
  },
  {
   "cell_type": "markdown",
   "metadata": {},
   "source": [
    "#### This project aims in determining if a person or an institution is to be provided with a loan\n",
    "#### Provided are the steps followed:\n",
    "#### Importing required libraries and dataset\n",
    "#### Data Preprocessing\n",
    "#####        - Dropping high correlated and unncessary columns\n",
    "#####        - Imputing or dropping null values\n",
    "#####        - Encoding categorical variables\n",
    "#####        - Dividing Dependent and Independent variables\n",
    "#### Splitting the dataset into Train and Test Set\n",
    "#### Applying Classification Models"
   ]
  },
  {
   "cell_type": "markdown",
   "metadata": {},
   "source": [
    "## Importing libraries and dataset"
   ]
  },
  {
   "cell_type": "code",
   "execution_count": 10,
   "metadata": {},
   "outputs": [],
   "source": [
    "import pandas as pd\n",
    "import numpy as np\n",
    "import matplotlib.pyplot as plt\n",
    "import seaborn as sns\n",
    "\n",
    "import warnings\n",
    "warnings.filterwarnings(\"ignore\")"
   ]
  },
  {
   "cell_type": "code",
   "execution_count": 11,
   "metadata": {},
   "outputs": [],
   "source": [
    "dataset = pd.read_csv(\"credit_train.csv\")"
   ]
  },
  {
   "cell_type": "code",
   "execution_count": 12,
   "metadata": {},
   "outputs": [
    {
     "data": {
      "text/html": [
       "<div>\n",
       "<style scoped>\n",
       "    .dataframe tbody tr th:only-of-type {\n",
       "        vertical-align: middle;\n",
       "    }\n",
       "\n",
       "    .dataframe tbody tr th {\n",
       "        vertical-align: top;\n",
       "    }\n",
       "\n",
       "    .dataframe thead th {\n",
       "        text-align: right;\n",
       "    }\n",
       "</style>\n",
       "<table border=\"1\" class=\"dataframe\">\n",
       "  <thead>\n",
       "    <tr style=\"text-align: right;\">\n",
       "      <th></th>\n",
       "      <th>Loan ID</th>\n",
       "      <th>Customer ID</th>\n",
       "      <th>Loan Status</th>\n",
       "      <th>Current Loan Amount</th>\n",
       "      <th>Term</th>\n",
       "      <th>Credit Score</th>\n",
       "      <th>Annual Income</th>\n",
       "      <th>Years in current job</th>\n",
       "      <th>Home Ownership</th>\n",
       "      <th>Purpose</th>\n",
       "      <th>Monthly Debt</th>\n",
       "      <th>Years of Credit History</th>\n",
       "      <th>Months since last delinquent</th>\n",
       "      <th>Number of Open Accounts</th>\n",
       "      <th>Number of Credit Problems</th>\n",
       "      <th>Current Credit Balance</th>\n",
       "      <th>Maximum Open Credit</th>\n",
       "      <th>Bankruptcies</th>\n",
       "      <th>Tax Liens</th>\n",
       "    </tr>\n",
       "  </thead>\n",
       "  <tbody>\n",
       "    <tr>\n",
       "      <th>0</th>\n",
       "      <td>14dd8831-6af5-400b-83ec-68e61888a048</td>\n",
       "      <td>981165ec-3274-42f5-a3b4-d104041a9ca9</td>\n",
       "      <td>Fully Paid</td>\n",
       "      <td>445412.0</td>\n",
       "      <td>Short Term</td>\n",
       "      <td>709.0</td>\n",
       "      <td>1167493.0</td>\n",
       "      <td>8 years</td>\n",
       "      <td>Home Mortgage</td>\n",
       "      <td>Home Improvements</td>\n",
       "      <td>5214.74</td>\n",
       "      <td>17.2</td>\n",
       "      <td>NaN</td>\n",
       "      <td>6.0</td>\n",
       "      <td>1.0</td>\n",
       "      <td>228190.0</td>\n",
       "      <td>416746.0</td>\n",
       "      <td>1.0</td>\n",
       "      <td>0.0</td>\n",
       "    </tr>\n",
       "    <tr>\n",
       "      <th>1</th>\n",
       "      <td>4771cc26-131a-45db-b5aa-537ea4ba5342</td>\n",
       "      <td>2de017a3-2e01-49cb-a581-08169e83be29</td>\n",
       "      <td>Fully Paid</td>\n",
       "      <td>262328.0</td>\n",
       "      <td>Short Term</td>\n",
       "      <td>NaN</td>\n",
       "      <td>NaN</td>\n",
       "      <td>10+ years</td>\n",
       "      <td>Home Mortgage</td>\n",
       "      <td>Debt Consolidation</td>\n",
       "      <td>33295.98</td>\n",
       "      <td>21.1</td>\n",
       "      <td>8.0</td>\n",
       "      <td>35.0</td>\n",
       "      <td>0.0</td>\n",
       "      <td>229976.0</td>\n",
       "      <td>850784.0</td>\n",
       "      <td>0.0</td>\n",
       "      <td>0.0</td>\n",
       "    </tr>\n",
       "    <tr>\n",
       "      <th>2</th>\n",
       "      <td>4eed4e6a-aa2f-4c91-8651-ce984ee8fb26</td>\n",
       "      <td>5efb2b2b-bf11-4dfd-a572-3761a2694725</td>\n",
       "      <td>Fully Paid</td>\n",
       "      <td>99999999.0</td>\n",
       "      <td>Short Term</td>\n",
       "      <td>741.0</td>\n",
       "      <td>2231892.0</td>\n",
       "      <td>8 years</td>\n",
       "      <td>Own Home</td>\n",
       "      <td>Debt Consolidation</td>\n",
       "      <td>29200.53</td>\n",
       "      <td>14.9</td>\n",
       "      <td>29.0</td>\n",
       "      <td>18.0</td>\n",
       "      <td>1.0</td>\n",
       "      <td>297996.0</td>\n",
       "      <td>750090.0</td>\n",
       "      <td>0.0</td>\n",
       "      <td>0.0</td>\n",
       "    </tr>\n",
       "    <tr>\n",
       "      <th>3</th>\n",
       "      <td>77598f7b-32e7-4e3b-a6e5-06ba0d98fe8a</td>\n",
       "      <td>e777faab-98ae-45af-9a86-7ce5b33b1011</td>\n",
       "      <td>Fully Paid</td>\n",
       "      <td>347666.0</td>\n",
       "      <td>Long Term</td>\n",
       "      <td>721.0</td>\n",
       "      <td>806949.0</td>\n",
       "      <td>3 years</td>\n",
       "      <td>Own Home</td>\n",
       "      <td>Debt Consolidation</td>\n",
       "      <td>8741.90</td>\n",
       "      <td>12.0</td>\n",
       "      <td>NaN</td>\n",
       "      <td>9.0</td>\n",
       "      <td>0.0</td>\n",
       "      <td>256329.0</td>\n",
       "      <td>386958.0</td>\n",
       "      <td>0.0</td>\n",
       "      <td>0.0</td>\n",
       "    </tr>\n",
       "    <tr>\n",
       "      <th>4</th>\n",
       "      <td>d4062e70-befa-4995-8643-a0de73938182</td>\n",
       "      <td>81536ad9-5ccf-4eb8-befb-47a4d608658e</td>\n",
       "      <td>Fully Paid</td>\n",
       "      <td>176220.0</td>\n",
       "      <td>Short Term</td>\n",
       "      <td>NaN</td>\n",
       "      <td>NaN</td>\n",
       "      <td>5 years</td>\n",
       "      <td>Rent</td>\n",
       "      <td>Debt Consolidation</td>\n",
       "      <td>20639.70</td>\n",
       "      <td>6.1</td>\n",
       "      <td>NaN</td>\n",
       "      <td>15.0</td>\n",
       "      <td>0.0</td>\n",
       "      <td>253460.0</td>\n",
       "      <td>427174.0</td>\n",
       "      <td>0.0</td>\n",
       "      <td>0.0</td>\n",
       "    </tr>\n",
       "  </tbody>\n",
       "</table>\n",
       "</div>"
      ],
      "text/plain": [
       "                                Loan ID                           Customer ID  \\\n",
       "0  14dd8831-6af5-400b-83ec-68e61888a048  981165ec-3274-42f5-a3b4-d104041a9ca9   \n",
       "1  4771cc26-131a-45db-b5aa-537ea4ba5342  2de017a3-2e01-49cb-a581-08169e83be29   \n",
       "2  4eed4e6a-aa2f-4c91-8651-ce984ee8fb26  5efb2b2b-bf11-4dfd-a572-3761a2694725   \n",
       "3  77598f7b-32e7-4e3b-a6e5-06ba0d98fe8a  e777faab-98ae-45af-9a86-7ce5b33b1011   \n",
       "4  d4062e70-befa-4995-8643-a0de73938182  81536ad9-5ccf-4eb8-befb-47a4d608658e   \n",
       "\n",
       "  Loan Status  Current Loan Amount        Term  Credit Score  Annual Income  \\\n",
       "0  Fully Paid             445412.0  Short Term         709.0      1167493.0   \n",
       "1  Fully Paid             262328.0  Short Term           NaN            NaN   \n",
       "2  Fully Paid           99999999.0  Short Term         741.0      2231892.0   \n",
       "3  Fully Paid             347666.0   Long Term         721.0       806949.0   \n",
       "4  Fully Paid             176220.0  Short Term           NaN            NaN   \n",
       "\n",
       "  Years in current job Home Ownership             Purpose  Monthly Debt  \\\n",
       "0              8 years  Home Mortgage   Home Improvements       5214.74   \n",
       "1            10+ years  Home Mortgage  Debt Consolidation      33295.98   \n",
       "2              8 years       Own Home  Debt Consolidation      29200.53   \n",
       "3              3 years       Own Home  Debt Consolidation       8741.90   \n",
       "4              5 years           Rent  Debt Consolidation      20639.70   \n",
       "\n",
       "   Years of Credit History  Months since last delinquent  \\\n",
       "0                     17.2                           NaN   \n",
       "1                     21.1                           8.0   \n",
       "2                     14.9                          29.0   \n",
       "3                     12.0                           NaN   \n",
       "4                      6.1                           NaN   \n",
       "\n",
       "   Number of Open Accounts  Number of Credit Problems  Current Credit Balance  \\\n",
       "0                      6.0                        1.0                228190.0   \n",
       "1                     35.0                        0.0                229976.0   \n",
       "2                     18.0                        1.0                297996.0   \n",
       "3                      9.0                        0.0                256329.0   \n",
       "4                     15.0                        0.0                253460.0   \n",
       "\n",
       "   Maximum Open Credit  Bankruptcies  Tax Liens  \n",
       "0             416746.0           1.0        0.0  \n",
       "1             850784.0           0.0        0.0  \n",
       "2             750090.0           0.0        0.0  \n",
       "3             386958.0           0.0        0.0  \n",
       "4             427174.0           0.0        0.0  "
      ]
     },
     "execution_count": 12,
     "metadata": {},
     "output_type": "execute_result"
    }
   ],
   "source": [
    "dataset.head()"
   ]
  },
  {
   "cell_type": "markdown",
   "metadata": {},
   "source": [
    "## Data Preprocessing"
   ]
  },
  {
   "cell_type": "code",
   "execution_count": 13,
   "metadata": {},
   "outputs": [
    {
     "data": {
      "image/png": "[encoded data removed]",
      "text/plain": [
       "<Figure size 432x288 with 2 Axes>"
      ]
     },
     "metadata": {
      "needs_background": "light"
     },
     "output_type": "display_data"
    }
   ],
   "source": [
    "sns.heatmap(dataset.isnull(),yticklabels=False,cbar=True,cmap='viridis')\n",
    "plt.show()"
   ]
  },
  {
   "cell_type": "code",
   "execution_count": 14,
   "metadata": {},
   "outputs": [
    {
     "data": {
      "image/png": "[encoded data removed]",
      "text/plain": [
       "<Figure size 1152x360 with 2 Axes>"
      ]
     },
     "metadata": {
      "needs_background": "light"
     },
     "output_type": "display_data"
    }
   ],
   "source": [
    "plt.figure(figsize = (16,5))\n",
    "sns.heatmap(dataset.corr(),annot=True,linewidths=0.1,cmap= \"YlOrRd\")\n",
    "plt.show()"
   ]
  },
  {
   "cell_type": "markdown",
   "metadata": {},
   "source": [
    "To move further it is important to drop unnecessary columns.\n",
    "Removal of highly correlated columns is advised as the other correlated column will be exerting the same effect on the model"
   ]
  },
  {
   "cell_type": "markdown",
   "metadata": {},
   "source": [
    "#### Dropping the highly correlated and unneccesary columns"
   ]
  },
  {
   "cell_type": "code",
   "execution_count": 15,
   "metadata": {},
   "outputs": [
    {
     "data": {
      "text/plain": [
       "Loan ID                           514\n",
       "Customer ID                       514\n",
       "Loan Status                       514\n",
       "Current Loan Amount               514\n",
       "Term                              514\n",
       "Credit Score                    19668\n",
       "Annual Income                   19668\n",
       "Years in current job             4736\n",
       "Home Ownership                    514\n",
       "Purpose                           514\n",
       "Monthly Debt                      514\n",
       "Years of Credit History           514\n",
       "Months since last delinquent    53655\n",
       "Number of Open Accounts           514\n",
       "Number of Credit Problems         514\n",
       "Current Credit Balance            514\n",
       "Maximum Open Credit               516\n",
       "Bankruptcies                      718\n",
       "Tax Liens                         524\n",
       "dtype: int64"
      ]
     },
     "execution_count": 15,
     "metadata": {},
     "output_type": "execute_result"
    }
   ],
   "source": [
    "dataset.isnull().sum()"
   ]
  },
  {
   "cell_type": "code",
   "execution_count": 9,
   "metadata": {},
   "outputs": [],
   "source": [
    "dataset.drop(columns=['Loan ID','Customer ID','Bankruptcies'],inplace=True)"
   ]
  },
  {
   "cell_type": "markdown",
   "metadata": {},
   "source": [
    "Here Bankrupties is highly correlated to \"number of Credit problems\". Among both columns, as bankruptcies have higher number of null values, remove \"Bankruptcies\""
   ]
  },
  {
   "cell_type": "code",
   "execution_count": 89,
   "metadata": {},
   "outputs": [
    {
     "data": {
      "text/plain": [
       "Loan Status                       514\n",
       "Current Loan Amount               514\n",
       "Term                              514\n",
       "Credit Score                    19668\n",
       "Annual Income                   19668\n",
       "Years in current job             4736\n",
       "Home Ownership                    514\n",
       "Purpose                           514\n",
       "Monthly Debt                      514\n",
       "Years of Credit History           514\n",
       "Months since last delinquent    53655\n",
       "Number of Open Accounts           514\n",
       "Number of Credit Problems         514\n",
       "Current Credit Balance            514\n",
       "Maximum Open Credit               516\n",
       "Tax Liens                         524\n",
       "dtype: int64"
      ]
     },
     "execution_count": 89,
     "metadata": {},
     "output_type": "execute_result"
    }
   ],
   "source": [
    "dataset.isnull().sum()"
   ]
  },
  {
   "cell_type": "code",
   "execution_count": 90,
   "metadata": {},
   "outputs": [
    {
     "data": {
      "text/plain": [
       "53.48"
      ]
     },
     "execution_count": 90,
     "metadata": {},
     "output_type": "execute_result"
    }
   ],
   "source": [
    "# Missing values of delinquent\n",
    "round(((37628/70360) * 100),2)"
   ]
  },
  {
   "cell_type": "markdown",
   "metadata": {},
   "source": [
    "As more than half values of \"Months since last delinquent\" and there is not much correlation of this column with any other variables, this column has to be removed"
   ]
  },
  {
   "cell_type": "code",
   "execution_count": 91,
   "metadata": {},
   "outputs": [],
   "source": [
    "dataset.drop(columns=['Months since last delinquent'],inplace=True)"
   ]
  },
  {
   "cell_type": "code",
   "execution_count": 92,
   "metadata": {},
   "outputs": [
    {
     "data": {
      "text/html": [
       "<div>\n",
       "<style scoped>\n",
       "    .dataframe tbody tr th:only-of-type {\n",
       "        vertical-align: middle;\n",
       "    }\n",
       "\n",
       "    .dataframe tbody tr th {\n",
       "        vertical-align: top;\n",
       "    }\n",
       "\n",
       "    .dataframe thead th {\n",
       "        text-align: right;\n",
       "    }\n",
       "</style>\n",
       "<table border=\"1\" class=\"dataframe\">\n",
       "  <thead>\n",
       "    <tr style=\"text-align: right;\">\n",
       "      <th></th>\n",
       "      <th>Loan Status</th>\n",
       "      <th>Current Loan Amount</th>\n",
       "      <th>Term</th>\n",
       "      <th>Credit Score</th>\n",
       "      <th>Annual Income</th>\n",
       "      <th>Years in current job</th>\n",
       "      <th>Home Ownership</th>\n",
       "      <th>Purpose</th>\n",
       "      <th>Monthly Debt</th>\n",
       "      <th>Years of Credit History</th>\n",
       "      <th>Number of Open Accounts</th>\n",
       "      <th>Number of Credit Problems</th>\n",
       "      <th>Current Credit Balance</th>\n",
       "      <th>Maximum Open Credit</th>\n",
       "      <th>Tax Liens</th>\n",
       "    </tr>\n",
       "  </thead>\n",
       "  <tbody>\n",
       "    <tr>\n",
       "      <th>0</th>\n",
       "      <td>Fully Paid</td>\n",
       "      <td>445412.0</td>\n",
       "      <td>Short Term</td>\n",
       "      <td>709.0</td>\n",
       "      <td>1167493.0</td>\n",
       "      <td>8 years</td>\n",
       "      <td>Home Mortgage</td>\n",
       "      <td>Home Improvements</td>\n",
       "      <td>5214.74</td>\n",
       "      <td>17.2</td>\n",
       "      <td>6.0</td>\n",
       "      <td>1.0</td>\n",
       "      <td>228190.0</td>\n",
       "      <td>416746.0</td>\n",
       "      <td>0.0</td>\n",
       "    </tr>\n",
       "    <tr>\n",
       "      <th>1</th>\n",
       "      <td>Fully Paid</td>\n",
       "      <td>262328.0</td>\n",
       "      <td>Short Term</td>\n",
       "      <td>NaN</td>\n",
       "      <td>NaN</td>\n",
       "      <td>10+ years</td>\n",
       "      <td>Home Mortgage</td>\n",
       "      <td>Debt Consolidation</td>\n",
       "      <td>33295.98</td>\n",
       "      <td>21.1</td>\n",
       "      <td>35.0</td>\n",
       "      <td>0.0</td>\n",
       "      <td>229976.0</td>\n",
       "      <td>850784.0</td>\n",
       "      <td>0.0</td>\n",
       "    </tr>\n",
       "    <tr>\n",
       "      <th>2</th>\n",
       "      <td>Fully Paid</td>\n",
       "      <td>99999999.0</td>\n",
       "      <td>Short Term</td>\n",
       "      <td>741.0</td>\n",
       "      <td>2231892.0</td>\n",
       "      <td>8 years</td>\n",
       "      <td>Own Home</td>\n",
       "      <td>Debt Consolidation</td>\n",
       "      <td>29200.53</td>\n",
       "      <td>14.9</td>\n",
       "      <td>18.0</td>\n",
       "      <td>1.0</td>\n",
       "      <td>297996.0</td>\n",
       "      <td>750090.0</td>\n",
       "      <td>0.0</td>\n",
       "    </tr>\n",
       "    <tr>\n",
       "      <th>3</th>\n",
       "      <td>Fully Paid</td>\n",
       "      <td>347666.0</td>\n",
       "      <td>Long Term</td>\n",
       "      <td>721.0</td>\n",
       "      <td>806949.0</td>\n",
       "      <td>3 years</td>\n",
       "      <td>Own Home</td>\n",
       "      <td>Debt Consolidation</td>\n",
       "      <td>8741.90</td>\n",
       "      <td>12.0</td>\n",
       "      <td>9.0</td>\n",
       "      <td>0.0</td>\n",
       "      <td>256329.0</td>\n",
       "      <td>386958.0</td>\n",
       "      <td>0.0</td>\n",
       "    </tr>\n",
       "    <tr>\n",
       "      <th>4</th>\n",
       "      <td>Fully Paid</td>\n",
       "      <td>176220.0</td>\n",
       "      <td>Short Term</td>\n",
       "      <td>NaN</td>\n",
       "      <td>NaN</td>\n",
       "      <td>5 years</td>\n",
       "      <td>Rent</td>\n",
       "      <td>Debt Consolidation</td>\n",
       "      <td>20639.70</td>\n",
       "      <td>6.1</td>\n",
       "      <td>15.0</td>\n",
       "      <td>0.0</td>\n",
       "      <td>253460.0</td>\n",
       "      <td>427174.0</td>\n",
       "      <td>0.0</td>\n",
       "    </tr>\n",
       "  </tbody>\n",
       "</table>\n",
       "</div>"
      ],
      "text/plain": [
       "  Loan Status  Current Loan Amount        Term  Credit Score  Annual Income  \\\n",
       "0  Fully Paid             445412.0  Short Term         709.0      1167493.0   \n",
       "1  Fully Paid             262328.0  Short Term           NaN            NaN   \n",
       "2  Fully Paid           99999999.0  Short Term         741.0      2231892.0   \n",
       "3  Fully Paid             347666.0   Long Term         721.0       806949.0   \n",
       "4  Fully Paid             176220.0  Short Term           NaN            NaN   \n",
       "\n",
       "  Years in current job Home Ownership             Purpose  Monthly Debt  \\\n",
       "0              8 years  Home Mortgage   Home Improvements       5214.74   \n",
       "1            10+ years  Home Mortgage  Debt Consolidation      33295.98   \n",
       "2              8 years       Own Home  Debt Consolidation      29200.53   \n",
       "3              3 years       Own Home  Debt Consolidation       8741.90   \n",
       "4              5 years           Rent  Debt Consolidation      20639.70   \n",
       "\n",
       "   Years of Credit History  Number of Open Accounts  \\\n",
       "0                     17.2                      6.0   \n",
       "1                     21.1                     35.0   \n",
       "2                     14.9                     18.0   \n",
       "3                     12.0                      9.0   \n",
       "4                      6.1                     15.0   \n",
       "\n",
       "   Number of Credit Problems  Current Credit Balance  Maximum Open Credit  \\\n",
       "0                        1.0                228190.0             416746.0   \n",
       "1                        0.0                229976.0             850784.0   \n",
       "2                        1.0                297996.0             750090.0   \n",
       "3                        0.0                256329.0             386958.0   \n",
       "4                        0.0                253460.0             427174.0   \n",
       "\n",
       "   Tax Liens  \n",
       "0        0.0  \n",
       "1        0.0  \n",
       "2        0.0  \n",
       "3        0.0  \n",
       "4        0.0  "
      ]
     },
     "execution_count": 92,
     "metadata": {},
     "output_type": "execute_result"
    }
   ],
   "source": [
    "dataset.head()"
   ]
  },
  {
   "cell_type": "markdown",
   "metadata": {},
   "source": [
    "#### Imputing or droping null values"
   ]
  },
  {
   "cell_type": "code",
   "execution_count": 93,
   "metadata": {},
   "outputs": [
    {
     "data": {
      "image/png": "[encoded data removed]",
      "text/plain": [
       "<Figure size 432x288 with 1 Axes>"
      ]
     },
     "metadata": {
      "needs_background": "light"
     },
     "output_type": "display_data"
    }
   ],
   "source": [
    "sns.countplot(x='Term',data=dataset)\n",
    "plt.show()"
   ]
  },
  {
   "cell_type": "code",
   "execution_count": 94,
   "metadata": {},
   "outputs": [
    {
     "data": {
      "text/plain": [
       "514"
      ]
     },
     "execution_count": 94,
     "metadata": {},
     "output_type": "execute_result"
    }
   ],
   "source": [
    "dataset[\"Term\"].isnull().sum()"
   ]
  },
  {
   "cell_type": "code",
   "execution_count": 95,
   "metadata": {},
   "outputs": [],
   "source": [
    "dataset[\"Term\"].fillna(\"Short Term\", inplace = True)"
   ]
  },
  {
   "cell_type": "code",
   "execution_count": 96,
   "metadata": {},
   "outputs": [
    {
     "data": {
      "text/plain": [
       "0"
      ]
     },
     "execution_count": 96,
     "metadata": {},
     "output_type": "execute_result"
    }
   ],
   "source": [
    "dataset[\"Term\"].isnull().sum()"
   ]
  },
  {
   "cell_type": "code",
   "execution_count": 97,
   "metadata": {},
   "outputs": [
    {
     "data": {
      "image/png": "[encoded data removed]",
      "text/plain": [
       "<Figure size 432x288 with 1 Axes>"
      ]
     },
     "metadata": {
      "needs_background": "light"
     },
     "output_type": "display_data"
    }
   ],
   "source": [
    "dataset['Purpose'].value_counts().plot(kind='bar')\n",
    "plt.plot()\n",
    "plt.show()"
   ]
  },
  {
   "cell_type": "code",
   "execution_count": 98,
   "metadata": {},
   "outputs": [
    {
     "data": {
      "text/plain": [
       "514"
      ]
     },
     "execution_count": 98,
     "metadata": {},
     "output_type": "execute_result"
    }
   ],
   "source": [
    "dataset[\"Purpose\"].isnull().sum()"
   ]
  },
  {
   "cell_type": "code",
   "execution_count": 99,
   "metadata": {},
   "outputs": [],
   "source": [
    "dataset = dataset.dropna(axis=0, subset=['Purpose'])"
   ]
  },
  {
   "cell_type": "code",
   "execution_count": 100,
   "metadata": {},
   "outputs": [
    {
     "data": {
      "text/plain": [
       "0"
      ]
     },
     "execution_count": 100,
     "metadata": {},
     "output_type": "execute_result"
    }
   ],
   "source": [
    "dataset[\"Purpose\"].isnull().sum()"
   ]
  },
  {
   "cell_type": "code",
   "execution_count": 101,
   "metadata": {},
   "outputs": [
    {
     "data": {
      "text/plain": [
       "Loan Status                      0\n",
       "Current Loan Amount              0\n",
       "Term                             0\n",
       "Credit Score                 19154\n",
       "Annual Income                19154\n",
       "Years in current job          4222\n",
       "Home Ownership                   0\n",
       "Purpose                          0\n",
       "Monthly Debt                     0\n",
       "Years of Credit History          0\n",
       "Number of Open Accounts          0\n",
       "Number of Credit Problems        0\n",
       "Current Credit Balance           0\n",
       "Maximum Open Credit              2\n",
       "Tax Liens                       10\n",
       "dtype: int64"
      ]
     },
     "execution_count": 101,
     "metadata": {},
     "output_type": "execute_result"
    }
   ],
   "source": [
    "dataset.isnull().sum()"
   ]
  },
  {
   "cell_type": "code",
   "execution_count": 103,
   "metadata": {},
   "outputs": [
    {
     "data": {
      "image/png": "[encoded data removed]",
      "text/plain": [
       "<Figure size 476x360 with 1 Axes>"
      ]
     },
     "metadata": {
      "needs_background": "light"
     },
     "output_type": "display_data"
    },
    {
     "data": {
      "image/png": "[encoded data removed]",
      "text/plain": [
       "<Figure size 476x360 with 1 Axes>"
      ]
     },
     "metadata": {
      "needs_background": "light"
     },
     "output_type": "display_data"
    }
   ],
   "source": [
    "l3 = sns.lmplot(data=dataset,x='Annual Income',y='Monthly Debt',fit_reg=False,hue = 'Home Ownership')\n",
    "l4 = sns.lmplot(data=dataset,x='Annual Income',y='Current Credit Balance',fit_reg=False,hue = 'Home Ownership')"
   ]
  },
  {
   "cell_type": "markdown",
   "metadata": {},
   "source": [
    "Various plot were drawn to find out any possible clusters which might help in imputing null \"Annual Income\" values.\n",
    "But as we couldnt plot any, we can directly drop null values"
   ]
  },
  {
   "cell_type": "code",
   "execution_count": 104,
   "metadata": {},
   "outputs": [],
   "source": [
    "dataset = dataset.dropna(axis=0, subset=['Annual Income'])"
   ]
  },
  {
   "cell_type": "code",
   "execution_count": 105,
   "metadata": {},
   "outputs": [],
   "source": [
    "dataset = dataset.dropna(axis=0, subset=['Years in current job'])\n",
    "dataset = dataset.dropna(axis=0, subset=['Maximum Open Credit'])\n",
    "dataset = dataset.dropna(axis=0, subset=['Tax Liens'])"
   ]
  },
  {
   "cell_type": "code",
   "execution_count": 106,
   "metadata": {},
   "outputs": [
    {
     "data": {
      "text/plain": [
       "Loan Status                  0\n",
       "Current Loan Amount          0\n",
       "Term                         0\n",
       "Credit Score                 0\n",
       "Annual Income                0\n",
       "Years in current job         0\n",
       "Home Ownership               0\n",
       "Purpose                      0\n",
       "Monthly Debt                 0\n",
       "Years of Credit History      0\n",
       "Number of Open Accounts      0\n",
       "Number of Credit Problems    0\n",
       "Current Credit Balance       0\n",
       "Maximum Open Credit          0\n",
       "Tax Liens                    0\n",
       "dtype: int64"
      ]
     },
     "execution_count": 106,
     "metadata": {},
     "output_type": "execute_result"
    }
   ],
   "source": [
    "dataset.isnull().sum()"
   ]
  },
  {
   "cell_type": "markdown",
   "metadata": {},
   "source": [
    "#### Encoding Categorical Variables"
   ]
  },
  {
   "cell_type": "code",
   "execution_count": 107,
   "metadata": {},
   "outputs": [],
   "source": [
    "from sklearn.preprocessing import LabelEncoder\n",
    "le=LabelEncoder()"
   ]
  },
  {
   "cell_type": "code",
   "execution_count": 108,
   "metadata": {
    "scrolled": false
   },
   "outputs": [
    {
     "data": {
      "image/png": "[encoded data removed]",
      "text/plain": [
       "<Figure size 432x288 with 1 Axes>"
      ]
     },
     "metadata": {
      "needs_background": "light"
     },
     "output_type": "display_data"
    }
   ],
   "source": [
    "sns.countplot(x='Loan Status',data=dataset)\n",
    "plt.show()"
   ]
  },
  {
   "cell_type": "code",
   "execution_count": 109,
   "metadata": {},
   "outputs": [],
   "source": [
    "dataset['Loan Status']= le.fit_transform(dataset['Loan Status'])"
   ]
  },
  {
   "cell_type": "code",
   "execution_count": 110,
   "metadata": {},
   "outputs": [
    {
     "data": {
      "text/plain": [
       "array([1, 0])"
      ]
     },
     "execution_count": 110,
     "metadata": {},
     "output_type": "execute_result"
    }
   ],
   "source": [
    "dataset['Loan Status'].unique()"
   ]
  },
  {
   "cell_type": "markdown",
   "metadata": {},
   "source": [
    "1 - Fully paid  ; 0 - charged off"
   ]
  },
  {
   "cell_type": "code",
   "execution_count": 111,
   "metadata": {},
   "outputs": [
    {
     "data": {
      "image/png": "[encoded data removed]",
      "text/plain": [
       "<Figure size 432x288 with 1 Axes>"
      ]
     },
     "metadata": {
      "needs_background": "light"
     },
     "output_type": "display_data"
    }
   ],
   "source": [
    "sns.countplot(x='Term',data=dataset)\n",
    "plt.show()"
   ]
  },
  {
   "cell_type": "code",
   "execution_count": 112,
   "metadata": {},
   "outputs": [],
   "source": [
    "dataset['Term']=le.fit_transform(dataset['Term'])"
   ]
  },
  {
   "cell_type": "code",
   "execution_count": 113,
   "metadata": {},
   "outputs": [
    {
     "data": {
      "text/plain": [
       "array([1, 0])"
      ]
     },
     "execution_count": 113,
     "metadata": {},
     "output_type": "execute_result"
    }
   ],
   "source": [
    "dataset['Term'].unique()"
   ]
  },
  {
   "cell_type": "markdown",
   "metadata": {},
   "source": [
    "1 - Short Term ; 0 - Long Term"
   ]
  },
  {
   "cell_type": "code",
   "execution_count": 114,
   "metadata": {},
   "outputs": [
    {
     "data": {
      "image/png": "[encoded data removed]",
      "text/plain": [
       "<Figure size 432x288 with 1 Axes>"
      ]
     },
     "metadata": {
      "needs_background": "light"
     },
     "output_type": "display_data"
    }
   ],
   "source": [
    "sns.countplot(x='Home Ownership',data=dataset)\n",
    "plt.show()"
   ]
  },
  {
   "cell_type": "code",
   "execution_count": 115,
   "metadata": {},
   "outputs": [],
   "source": [
    "dataset['Home Ownership']=le.fit_transform(dataset['Home Ownership'])"
   ]
  },
  {
   "cell_type": "code",
   "execution_count": 116,
   "metadata": {},
   "outputs": [
    {
     "data": {
      "image/png": "[encoded data removed]",
      "text/plain": [
       "<Figure size 432x288 with 1 Axes>"
      ]
     },
     "metadata": {
      "needs_background": "light"
     },
     "output_type": "display_data"
    }
   ],
   "source": [
    "sns.countplot(x='Home Ownership',data=dataset)\n",
    "plt.show()"
   ]
  },
  {
   "cell_type": "markdown",
   "metadata": {},
   "source": [
    "0 - Have Mortgage;\n",
    "1 - Home Mortgage;\n",
    "2 - Own Home;\n",
    "3 - Rent"
   ]
  },
  {
   "cell_type": "code",
   "execution_count": 117,
   "metadata": {},
   "outputs": [
    {
     "data": {
      "image/png": "[encoded data removed]",
      "text/plain": [
       "<Figure size 432x288 with 1 Axes>"
      ]
     },
     "metadata": {
      "needs_background": "light"
     },
     "output_type": "display_data"
    }
   ],
   "source": [
    "dataset['Purpose'].value_counts().plot(kind='bar')\n",
    "plt.plot()\n",
    "plt.show()"
   ]
  },
  {
   "cell_type": "code",
   "execution_count": 118,
   "metadata": {},
   "outputs": [],
   "source": [
    "dataset['Purpose']=le.fit_transform(dataset['Purpose'])"
   ]
  },
  {
   "cell_type": "code",
   "execution_count": 119,
   "metadata": {},
   "outputs": [
    {
     "data": {
      "image/png": "[encoded data removed]",
      "text/plain": [
       "<Figure size 432x288 with 1 Axes>"
      ]
     },
     "metadata": {
      "needs_background": "light"
     },
     "output_type": "display_data"
    }
   ],
   "source": [
    "dataset['Purpose'].value_counts().plot(kind='bar')\n",
    "plt.plot()\n",
    "plt.show()"
   ]
  },
  {
   "cell_type": "code",
   "execution_count": 120,
   "metadata": {},
   "outputs": [
    {
     "data": {
      "image/png": "[encoded data removed]",
      "text/plain": [
       "<Figure size 432x288 with 1 Axes>"
      ]
     },
     "metadata": {
      "needs_background": "light"
     },
     "output_type": "display_data"
    }
   ],
   "source": [
    "dataset['Years in current job'].value_counts().plot(kind='bar')\n",
    "plt.plot()\n",
    "plt.show()"
   ]
  },
  {
   "cell_type": "code",
   "execution_count": 121,
   "metadata": {},
   "outputs": [],
   "source": [
    "dataset['Years in current job']=le.fit_transform(dataset['Years in current job'])"
   ]
  },
  {
   "cell_type": "code",
   "execution_count": 122,
   "metadata": {},
   "outputs": [
    {
     "data": {
      "image/png": "[encoded data removed]",
      "text/plain": [
       "<Figure size 432x288 with 1 Axes>"
      ]
     },
     "metadata": {
      "needs_background": "light"
     },
     "output_type": "display_data"
    }
   ],
   "source": [
    "dataset['Years in current job'].value_counts().plot(kind='bar')\n",
    "plt.plot()\n",
    "plt.show()"
   ]
  },
  {
   "cell_type": "markdown",
   "metadata": {},
   "source": [
    "#### Dividing dependent and independent variables"
   ]
  },
  {
   "cell_type": "code",
   "execution_count": 123,
   "metadata": {},
   "outputs": [],
   "source": [
    "X = dataset.drop(columns=['Loan Status'])\n",
    "y = dataset['Loan Status']"
   ]
  },
  {
   "cell_type": "code",
   "execution_count": 124,
   "metadata": {},
   "outputs": [
    {
     "data": {
      "text/html": [
       "<div>\n",
       "<style scoped>\n",
       "    .dataframe tbody tr th:only-of-type {\n",
       "        vertical-align: middle;\n",
       "    }\n",
       "\n",
       "    .dataframe tbody tr th {\n",
       "        vertical-align: top;\n",
       "    }\n",
       "\n",
       "    .dataframe thead th {\n",
       "        text-align: right;\n",
       "    }\n",
       "</style>\n",
       "<table border=\"1\" class=\"dataframe\">\n",
       "  <thead>\n",
       "    <tr style=\"text-align: right;\">\n",
       "      <th></th>\n",
       "      <th>Current Loan Amount</th>\n",
       "      <th>Term</th>\n",
       "      <th>Credit Score</th>\n",
       "      <th>Annual Income</th>\n",
       "      <th>Years in current job</th>\n",
       "      <th>Home Ownership</th>\n",
       "      <th>Purpose</th>\n",
       "      <th>Monthly Debt</th>\n",
       "      <th>Years of Credit History</th>\n",
       "      <th>Number of Open Accounts</th>\n",
       "      <th>Number of Credit Problems</th>\n",
       "      <th>Current Credit Balance</th>\n",
       "      <th>Maximum Open Credit</th>\n",
       "      <th>Tax Liens</th>\n",
       "    </tr>\n",
       "  </thead>\n",
       "  <tbody>\n",
       "    <tr>\n",
       "      <th>0</th>\n",
       "      <td>445412.0</td>\n",
       "      <td>1</td>\n",
       "      <td>709.0</td>\n",
       "      <td>1167493.0</td>\n",
       "      <td>8</td>\n",
       "      <td>1</td>\n",
       "      <td>5</td>\n",
       "      <td>5214.74</td>\n",
       "      <td>17.2</td>\n",
       "      <td>6.0</td>\n",
       "      <td>1.0</td>\n",
       "      <td>228190.0</td>\n",
       "      <td>416746.0</td>\n",
       "      <td>0.0</td>\n",
       "    </tr>\n",
       "    <tr>\n",
       "      <th>2</th>\n",
       "      <td>99999999.0</td>\n",
       "      <td>1</td>\n",
       "      <td>741.0</td>\n",
       "      <td>2231892.0</td>\n",
       "      <td>8</td>\n",
       "      <td>2</td>\n",
       "      <td>3</td>\n",
       "      <td>29200.53</td>\n",
       "      <td>14.9</td>\n",
       "      <td>18.0</td>\n",
       "      <td>1.0</td>\n",
       "      <td>297996.0</td>\n",
       "      <td>750090.0</td>\n",
       "      <td>0.0</td>\n",
       "    </tr>\n",
       "    <tr>\n",
       "      <th>3</th>\n",
       "      <td>347666.0</td>\n",
       "      <td>0</td>\n",
       "      <td>721.0</td>\n",
       "      <td>806949.0</td>\n",
       "      <td>3</td>\n",
       "      <td>2</td>\n",
       "      <td>3</td>\n",
       "      <td>8741.90</td>\n",
       "      <td>12.0</td>\n",
       "      <td>9.0</td>\n",
       "      <td>0.0</td>\n",
       "      <td>256329.0</td>\n",
       "      <td>386958.0</td>\n",
       "      <td>0.0</td>\n",
       "    </tr>\n",
       "    <tr>\n",
       "      <th>5</th>\n",
       "      <td>206602.0</td>\n",
       "      <td>1</td>\n",
       "      <td>7290.0</td>\n",
       "      <td>896857.0</td>\n",
       "      <td>1</td>\n",
       "      <td>1</td>\n",
       "      <td>3</td>\n",
       "      <td>16367.74</td>\n",
       "      <td>17.3</td>\n",
       "      <td>6.0</td>\n",
       "      <td>0.0</td>\n",
       "      <td>215308.0</td>\n",
       "      <td>272448.0</td>\n",
       "      <td>0.0</td>\n",
       "    </tr>\n",
       "    <tr>\n",
       "      <th>6</th>\n",
       "      <td>217646.0</td>\n",
       "      <td>1</td>\n",
       "      <td>730.0</td>\n",
       "      <td>1184194.0</td>\n",
       "      <td>10</td>\n",
       "      <td>1</td>\n",
       "      <td>3</td>\n",
       "      <td>10855.08</td>\n",
       "      <td>19.6</td>\n",
       "      <td>13.0</td>\n",
       "      <td>1.0</td>\n",
       "      <td>122170.0</td>\n",
       "      <td>272052.0</td>\n",
       "      <td>0.0</td>\n",
       "    </tr>\n",
       "  </tbody>\n",
       "</table>\n",
       "</div>"
      ],
      "text/plain": [
       "   Current Loan Amount  Term  Credit Score  Annual Income  \\\n",
       "0             445412.0     1         709.0      1167493.0   \n",
       "2           99999999.0     1         741.0      2231892.0   \n",
       "3             347666.0     0         721.0       806949.0   \n",
       "5             206602.0     1        7290.0       896857.0   \n",
       "6             217646.0     1         730.0      1184194.0   \n",
       "\n",
       "   Years in current job  Home Ownership  Purpose  Monthly Debt  \\\n",
       "0                     8               1        5       5214.74   \n",
       "2                     8               2        3      29200.53   \n",
       "3                     3               2        3       8741.90   \n",
       "5                     1               1        3      16367.74   \n",
       "6                    10               1        3      10855.08   \n",
       "\n",
       "   Years of Credit History  Number of Open Accounts  \\\n",
       "0                     17.2                      6.0   \n",
       "2                     14.9                     18.0   \n",
       "3                     12.0                      9.0   \n",
       "5                     17.3                      6.0   \n",
       "6                     19.6                     13.0   \n",
       "\n",
       "   Number of Credit Problems  Current Credit Balance  Maximum Open Credit  \\\n",
       "0                        1.0                228190.0             416746.0   \n",
       "2                        1.0                297996.0             750090.0   \n",
       "3                        0.0                256329.0             386958.0   \n",
       "5                        0.0                215308.0             272448.0   \n",
       "6                        1.0                122170.0             272052.0   \n",
       "\n",
       "   Tax Liens  \n",
       "0        0.0  \n",
       "2        0.0  \n",
       "3        0.0  \n",
       "5        0.0  \n",
       "6        0.0  "
      ]
     },
     "execution_count": 124,
     "metadata": {},
     "output_type": "execute_result"
    }
   ],
   "source": [
    "X.head()"
   ]
  },
  {
   "cell_type": "code",
   "execution_count": 125,
   "metadata": {
    "scrolled": false
   },
   "outputs": [
    {
     "name": "stdout",
     "output_type": "stream",
     "text": [
      "<class 'pandas.core.frame.DataFrame'>\n",
      "Int64Index: 77427 entries, 0 to 99998\n",
      "Data columns (total 14 columns):\n",
      " #   Column                     Non-Null Count  Dtype  \n",
      "---  ------                     --------------  -----  \n",
      " 0   Current Loan Amount        77427 non-null  float64\n",
      " 1   Term                       77427 non-null  int32  \n",
      " 2   Credit Score               77427 non-null  float64\n",
      " 3   Annual Income              77427 non-null  float64\n",
      " 4   Years in current job       77427 non-null  int32  \n",
      " 5   Home Ownership             77427 non-null  int32  \n",
      " 6   Purpose                    77427 non-null  int32  \n",
      " 7   Monthly Debt               77427 non-null  float64\n",
      " 8   Years of Credit History    77427 non-null  float64\n",
      " 9   Number of Open Accounts    77427 non-null  float64\n",
      " 10  Number of Credit Problems  77427 non-null  float64\n",
      " 11  Current Credit Balance     77427 non-null  float64\n",
      " 12  Maximum Open Credit        77427 non-null  float64\n",
      " 13  Tax Liens                  77427 non-null  float64\n",
      "dtypes: float64(10), int32(4)\n",
      "memory usage: 10.2 MB\n"
     ]
    }
   ],
   "source": [
    "X.info()"
   ]
  },
  {
   "cell_type": "code",
   "execution_count": 126,
   "metadata": {},
   "outputs": [],
   "source": [
    "X['Term']=X['Term'].astype('category')\n",
    "X['Years in current job']=X['Years in current job'].astype('category')\n",
    "X['Home Ownership']=X['Home Ownership'].astype('category')\n",
    "X['Purpose']=X['Purpose'].astype('category')"
   ]
  },
  {
   "cell_type": "code",
   "execution_count": 127,
   "metadata": {},
   "outputs": [
    {
     "name": "stdout",
     "output_type": "stream",
     "text": [
      "<class 'pandas.core.frame.DataFrame'>\n",
      "Int64Index: 77427 entries, 0 to 99998\n",
      "Data columns (total 14 columns):\n",
      " #   Column                     Non-Null Count  Dtype   \n",
      "---  ------                     --------------  -----   \n",
      " 0   Current Loan Amount        77427 non-null  float64 \n",
      " 1   Term                       77427 non-null  category\n",
      " 2   Credit Score               77427 non-null  float64 \n",
      " 3   Annual Income              77427 non-null  float64 \n",
      " 4   Years in current job       77427 non-null  category\n",
      " 5   Home Ownership             77427 non-null  category\n",
      " 6   Purpose                    77427 non-null  category\n",
      " 7   Monthly Debt               77427 non-null  float64 \n",
      " 8   Years of Credit History    77427 non-null  float64 \n",
      " 9   Number of Open Accounts    77427 non-null  float64 \n",
      " 10  Number of Credit Problems  77427 non-null  float64 \n",
      " 11  Current Credit Balance     77427 non-null  float64 \n",
      " 12  Maximum Open Credit        77427 non-null  float64 \n",
      " 13  Tax Liens                  77427 non-null  float64 \n",
      "dtypes: category(4), float64(10)\n",
      "memory usage: 9.3 MB\n"
     ]
    }
   ],
   "source": [
    "X.info()"
   ]
  },
  {
   "cell_type": "code",
   "execution_count": 128,
   "metadata": {},
   "outputs": [
    {
     "data": {
      "text/plain": [
       "0    1\n",
       "2    1\n",
       "3    1\n",
       "5    0\n",
       "6    1\n",
       "Name: Loan Status, dtype: int32"
      ]
     },
     "execution_count": 128,
     "metadata": {},
     "output_type": "execute_result"
    }
   ],
   "source": [
    "y.head()"
   ]
  },
  {
   "cell_type": "markdown",
   "metadata": {},
   "source": [
    "## Splitting the dataset into train and test set"
   ]
  },
  {
   "cell_type": "code",
   "execution_count": 129,
   "metadata": {},
   "outputs": [],
   "source": [
    "#X = X[['Term', 'Years in current job', 'Home Ownership','Purpose','Current Loan Amount','Credit Score','Annual Income','Monthly Debt','Years of Credit History','Number of Open Accounts','Number of Credit Problems','Current Credit Balance','Maximum Open Credit','Tax Liens']] "
   ]
  },
  {
   "cell_type": "code",
   "execution_count": 130,
   "metadata": {},
   "outputs": [
    {
     "data": {
      "text/html": [
       "<div>\n",
       "<style scoped>\n",
       "    .dataframe tbody tr th:only-of-type {\n",
       "        vertical-align: middle;\n",
       "    }\n",
       "\n",
       "    .dataframe tbody tr th {\n",
       "        vertical-align: top;\n",
       "    }\n",
       "\n",
       "    .dataframe thead th {\n",
       "        text-align: right;\n",
       "    }\n",
       "</style>\n",
       "<table border=\"1\" class=\"dataframe\">\n",
       "  <thead>\n",
       "    <tr style=\"text-align: right;\">\n",
       "      <th></th>\n",
       "      <th>Current Loan Amount</th>\n",
       "      <th>Term</th>\n",
       "      <th>Credit Score</th>\n",
       "      <th>Annual Income</th>\n",
       "      <th>Years in current job</th>\n",
       "      <th>Home Ownership</th>\n",
       "      <th>Purpose</th>\n",
       "      <th>Monthly Debt</th>\n",
       "      <th>Years of Credit History</th>\n",
       "      <th>Number of Open Accounts</th>\n",
       "      <th>Number of Credit Problems</th>\n",
       "      <th>Current Credit Balance</th>\n",
       "      <th>Maximum Open Credit</th>\n",
       "      <th>Tax Liens</th>\n",
       "    </tr>\n",
       "  </thead>\n",
       "  <tbody>\n",
       "    <tr>\n",
       "      <th>0</th>\n",
       "      <td>445412.0</td>\n",
       "      <td>1</td>\n",
       "      <td>709.0</td>\n",
       "      <td>1167493.0</td>\n",
       "      <td>8</td>\n",
       "      <td>1</td>\n",
       "      <td>5</td>\n",
       "      <td>5214.74</td>\n",
       "      <td>17.2</td>\n",
       "      <td>6.0</td>\n",
       "      <td>1.0</td>\n",
       "      <td>228190.0</td>\n",
       "      <td>416746.0</td>\n",
       "      <td>0.0</td>\n",
       "    </tr>\n",
       "    <tr>\n",
       "      <th>2</th>\n",
       "      <td>99999999.0</td>\n",
       "      <td>1</td>\n",
       "      <td>741.0</td>\n",
       "      <td>2231892.0</td>\n",
       "      <td>8</td>\n",
       "      <td>2</td>\n",
       "      <td>3</td>\n",
       "      <td>29200.53</td>\n",
       "      <td>14.9</td>\n",
       "      <td>18.0</td>\n",
       "      <td>1.0</td>\n",
       "      <td>297996.0</td>\n",
       "      <td>750090.0</td>\n",
       "      <td>0.0</td>\n",
       "    </tr>\n",
       "    <tr>\n",
       "      <th>3</th>\n",
       "      <td>347666.0</td>\n",
       "      <td>0</td>\n",
       "      <td>721.0</td>\n",
       "      <td>806949.0</td>\n",
       "      <td>3</td>\n",
       "      <td>2</td>\n",
       "      <td>3</td>\n",
       "      <td>8741.90</td>\n",
       "      <td>12.0</td>\n",
       "      <td>9.0</td>\n",
       "      <td>0.0</td>\n",
       "      <td>256329.0</td>\n",
       "      <td>386958.0</td>\n",
       "      <td>0.0</td>\n",
       "    </tr>\n",
       "    <tr>\n",
       "      <th>5</th>\n",
       "      <td>206602.0</td>\n",
       "      <td>1</td>\n",
       "      <td>7290.0</td>\n",
       "      <td>896857.0</td>\n",
       "      <td>1</td>\n",
       "      <td>1</td>\n",
       "      <td>3</td>\n",
       "      <td>16367.74</td>\n",
       "      <td>17.3</td>\n",
       "      <td>6.0</td>\n",
       "      <td>0.0</td>\n",
       "      <td>215308.0</td>\n",
       "      <td>272448.0</td>\n",
       "      <td>0.0</td>\n",
       "    </tr>\n",
       "    <tr>\n",
       "      <th>6</th>\n",
       "      <td>217646.0</td>\n",
       "      <td>1</td>\n",
       "      <td>730.0</td>\n",
       "      <td>1184194.0</td>\n",
       "      <td>10</td>\n",
       "      <td>1</td>\n",
       "      <td>3</td>\n",
       "      <td>10855.08</td>\n",
       "      <td>19.6</td>\n",
       "      <td>13.0</td>\n",
       "      <td>1.0</td>\n",
       "      <td>122170.0</td>\n",
       "      <td>272052.0</td>\n",
       "      <td>0.0</td>\n",
       "    </tr>\n",
       "    <tr>\n",
       "      <th>...</th>\n",
       "      <td>...</td>\n",
       "      <td>...</td>\n",
       "      <td>...</td>\n",
       "      <td>...</td>\n",
       "      <td>...</td>\n",
       "      <td>...</td>\n",
       "      <td>...</td>\n",
       "      <td>...</td>\n",
       "      <td>...</td>\n",
       "      <td>...</td>\n",
       "      <td>...</td>\n",
       "      <td>...</td>\n",
       "      <td>...</td>\n",
       "      <td>...</td>\n",
       "    </tr>\n",
       "    <tr>\n",
       "      <th>99994</th>\n",
       "      <td>210584.0</td>\n",
       "      <td>1</td>\n",
       "      <td>719.0</td>\n",
       "      <td>783389.0</td>\n",
       "      <td>0</td>\n",
       "      <td>1</td>\n",
       "      <td>7</td>\n",
       "      <td>3727.61</td>\n",
       "      <td>17.4</td>\n",
       "      <td>6.0</td>\n",
       "      <td>0.0</td>\n",
       "      <td>456.0</td>\n",
       "      <td>259160.0</td>\n",
       "      <td>0.0</td>\n",
       "    </tr>\n",
       "    <tr>\n",
       "      <th>99995</th>\n",
       "      <td>147070.0</td>\n",
       "      <td>1</td>\n",
       "      <td>725.0</td>\n",
       "      <td>475437.0</td>\n",
       "      <td>7</td>\n",
       "      <td>2</td>\n",
       "      <td>11</td>\n",
       "      <td>2202.86</td>\n",
       "      <td>22.3</td>\n",
       "      <td>5.0</td>\n",
       "      <td>0.0</td>\n",
       "      <td>47766.0</td>\n",
       "      <td>658548.0</td>\n",
       "      <td>0.0</td>\n",
       "    </tr>\n",
       "    <tr>\n",
       "      <th>99996</th>\n",
       "      <td>99999999.0</td>\n",
       "      <td>1</td>\n",
       "      <td>732.0</td>\n",
       "      <td>1289416.0</td>\n",
       "      <td>0</td>\n",
       "      <td>3</td>\n",
       "      <td>3</td>\n",
       "      <td>13109.05</td>\n",
       "      <td>9.4</td>\n",
       "      <td>22.0</td>\n",
       "      <td>0.0</td>\n",
       "      <td>153045.0</td>\n",
       "      <td>509234.0</td>\n",
       "      <td>0.0</td>\n",
       "    </tr>\n",
       "    <tr>\n",
       "      <th>99997</th>\n",
       "      <td>103136.0</td>\n",
       "      <td>1</td>\n",
       "      <td>742.0</td>\n",
       "      <td>1150545.0</td>\n",
       "      <td>6</td>\n",
       "      <td>3</td>\n",
       "      <td>3</td>\n",
       "      <td>7315.57</td>\n",
       "      <td>18.8</td>\n",
       "      <td>12.0</td>\n",
       "      <td>1.0</td>\n",
       "      <td>109554.0</td>\n",
       "      <td>537548.0</td>\n",
       "      <td>0.0</td>\n",
       "    </tr>\n",
       "    <tr>\n",
       "      <th>99998</th>\n",
       "      <td>530332.0</td>\n",
       "      <td>1</td>\n",
       "      <td>746.0</td>\n",
       "      <td>1717524.0</td>\n",
       "      <td>9</td>\n",
       "      <td>3</td>\n",
       "      <td>3</td>\n",
       "      <td>9890.07</td>\n",
       "      <td>15.0</td>\n",
       "      <td>8.0</td>\n",
       "      <td>0.0</td>\n",
       "      <td>404225.0</td>\n",
       "      <td>738254.0</td>\n",
       "      <td>0.0</td>\n",
       "    </tr>\n",
       "  </tbody>\n",
       "</table>\n",
       "<p>77427 rows × 14 columns</p>\n",
       "</div>"
      ],
      "text/plain": [
       "       Current Loan Amount Term  Credit Score  Annual Income  \\\n",
       "0                 445412.0    1         709.0      1167493.0   \n",
       "2               99999999.0    1         741.0      2231892.0   \n",
       "3                 347666.0    0         721.0       806949.0   \n",
       "5                 206602.0    1        7290.0       896857.0   \n",
       "6                 217646.0    1         730.0      1184194.0   \n",
       "...                    ...  ...           ...            ...   \n",
       "99994             210584.0    1         719.0       783389.0   \n",
       "99995             147070.0    1         725.0       475437.0   \n",
       "99996           99999999.0    1         732.0      1289416.0   \n",
       "99997             103136.0    1         742.0      1150545.0   \n",
       "99998             530332.0    1         746.0      1717524.0   \n",
       "\n",
       "      Years in current job Home Ownership Purpose  Monthly Debt  \\\n",
       "0                        8              1       5       5214.74   \n",
       "2                        8              2       3      29200.53   \n",
       "3                        3              2       3       8741.90   \n",
       "5                        1              1       3      16367.74   \n",
       "6                       10              1       3      10855.08   \n",
       "...                    ...            ...     ...           ...   \n",
       "99994                    0              1       7       3727.61   \n",
       "99995                    7              2      11       2202.86   \n",
       "99996                    0              3       3      13109.05   \n",
       "99997                    6              3       3       7315.57   \n",
       "99998                    9              3       3       9890.07   \n",
       "\n",
       "       Years of Credit History  Number of Open Accounts  \\\n",
       "0                         17.2                      6.0   \n",
       "2                         14.9                     18.0   \n",
       "3                         12.0                      9.0   \n",
       "5                         17.3                      6.0   \n",
       "6                         19.6                     13.0   \n",
       "...                        ...                      ...   \n",
       "99994                     17.4                      6.0   \n",
       "99995                     22.3                      5.0   \n",
       "99996                      9.4                     22.0   \n",
       "99997                     18.8                     12.0   \n",
       "99998                     15.0                      8.0   \n",
       "\n",
       "       Number of Credit Problems  Current Credit Balance  Maximum Open Credit  \\\n",
       "0                            1.0                228190.0             416746.0   \n",
       "2                            1.0                297996.0             750090.0   \n",
       "3                            0.0                256329.0             386958.0   \n",
       "5                            0.0                215308.0             272448.0   \n",
       "6                            1.0                122170.0             272052.0   \n",
       "...                          ...                     ...                  ...   \n",
       "99994                        0.0                   456.0             259160.0   \n",
       "99995                        0.0                 47766.0             658548.0   \n",
       "99996                        0.0                153045.0             509234.0   \n",
       "99997                        1.0                109554.0             537548.0   \n",
       "99998                        0.0                404225.0             738254.0   \n",
       "\n",
       "       Tax Liens  \n",
       "0            0.0  \n",
       "2            0.0  \n",
       "3            0.0  \n",
       "5            0.0  \n",
       "6            0.0  \n",
       "...          ...  \n",
       "99994        0.0  \n",
       "99995        0.0  \n",
       "99996        0.0  \n",
       "99997        0.0  \n",
       "99998        0.0  \n",
       "\n",
       "[77427 rows x 14 columns]"
      ]
     },
     "execution_count": 130,
     "metadata": {},
     "output_type": "execute_result"
    }
   ],
   "source": [
    "X"
   ]
  },
  {
   "cell_type": "code",
   "execution_count": 131,
   "metadata": {},
   "outputs": [],
   "source": [
    "from sklearn.model_selection import train_test_split\n",
    "X_train, X_test, y_train, y_test = train_test_split(X, y, test_size = 0.2, random_state = 1)"
   ]
  },
  {
   "cell_type": "code",
   "execution_count": 132,
   "metadata": {},
   "outputs": [
    {
     "data": {
      "text/html": [
       "<div>\n",
       "<style scoped>\n",
       "    .dataframe tbody tr th:only-of-type {\n",
       "        vertical-align: middle;\n",
       "    }\n",
       "\n",
       "    .dataframe tbody tr th {\n",
       "        vertical-align: top;\n",
       "    }\n",
       "\n",
       "    .dataframe thead th {\n",
       "        text-align: right;\n",
       "    }\n",
       "</style>\n",
       "<table border=\"1\" class=\"dataframe\">\n",
       "  <thead>\n",
       "    <tr style=\"text-align: right;\">\n",
       "      <th></th>\n",
       "      <th>Current Loan Amount</th>\n",
       "      <th>Term</th>\n",
       "      <th>Credit Score</th>\n",
       "      <th>Annual Income</th>\n",
       "      <th>Years in current job</th>\n",
       "      <th>Home Ownership</th>\n",
       "      <th>Purpose</th>\n",
       "      <th>Monthly Debt</th>\n",
       "      <th>Years of Credit History</th>\n",
       "      <th>Number of Open Accounts</th>\n",
       "      <th>Number of Credit Problems</th>\n",
       "      <th>Current Credit Balance</th>\n",
       "      <th>Maximum Open Credit</th>\n",
       "      <th>Tax Liens</th>\n",
       "    </tr>\n",
       "  </thead>\n",
       "  <tbody>\n",
       "    <tr>\n",
       "      <th>96107</th>\n",
       "      <td>545336.0</td>\n",
       "      <td>0</td>\n",
       "      <td>667.0</td>\n",
       "      <td>1412897.0</td>\n",
       "      <td>1</td>\n",
       "      <td>3</td>\n",
       "      <td>3</td>\n",
       "      <td>36970.58</td>\n",
       "      <td>22.7</td>\n",
       "      <td>12.0</td>\n",
       "      <td>0.0</td>\n",
       "      <td>315248.0</td>\n",
       "      <td>651816.0</td>\n",
       "      <td>0.0</td>\n",
       "    </tr>\n",
       "    <tr>\n",
       "      <th>75344</th>\n",
       "      <td>331892.0</td>\n",
       "      <td>1</td>\n",
       "      <td>7380.0</td>\n",
       "      <td>1199052.0</td>\n",
       "      <td>6</td>\n",
       "      <td>1</td>\n",
       "      <td>3</td>\n",
       "      <td>23381.40</td>\n",
       "      <td>24.5</td>\n",
       "      <td>12.0</td>\n",
       "      <td>1.0</td>\n",
       "      <td>161120.0</td>\n",
       "      <td>690976.0</td>\n",
       "      <td>0.0</td>\n",
       "    </tr>\n",
       "    <tr>\n",
       "      <th>88975</th>\n",
       "      <td>359678.0</td>\n",
       "      <td>1</td>\n",
       "      <td>710.0</td>\n",
       "      <td>3300414.0</td>\n",
       "      <td>7</td>\n",
       "      <td>1</td>\n",
       "      <td>3</td>\n",
       "      <td>71508.97</td>\n",
       "      <td>14.2</td>\n",
       "      <td>17.0</td>\n",
       "      <td>0.0</td>\n",
       "      <td>5173491.0</td>\n",
       "      <td>6909298.0</td>\n",
       "      <td>0.0</td>\n",
       "    </tr>\n",
       "    <tr>\n",
       "      <th>20349</th>\n",
       "      <td>216436.0</td>\n",
       "      <td>1</td>\n",
       "      <td>719.0</td>\n",
       "      <td>1308454.0</td>\n",
       "      <td>1</td>\n",
       "      <td>3</td>\n",
       "      <td>3</td>\n",
       "      <td>18209.41</td>\n",
       "      <td>8.2</td>\n",
       "      <td>9.0</td>\n",
       "      <td>0.0</td>\n",
       "      <td>138909.0</td>\n",
       "      <td>235818.0</td>\n",
       "      <td>0.0</td>\n",
       "    </tr>\n",
       "    <tr>\n",
       "      <th>5731</th>\n",
       "      <td>405086.0</td>\n",
       "      <td>1</td>\n",
       "      <td>7400.0</td>\n",
       "      <td>1431916.0</td>\n",
       "      <td>5</td>\n",
       "      <td>1</td>\n",
       "      <td>5</td>\n",
       "      <td>15548.27</td>\n",
       "      <td>22.7</td>\n",
       "      <td>13.0</td>\n",
       "      <td>1.0</td>\n",
       "      <td>25764.0</td>\n",
       "      <td>234960.0</td>\n",
       "      <td>0.0</td>\n",
       "    </tr>\n",
       "  </tbody>\n",
       "</table>\n",
       "</div>"
      ],
      "text/plain": [
       "       Current Loan Amount Term  Credit Score  Annual Income  \\\n",
       "96107             545336.0    0         667.0      1412897.0   \n",
       "75344             331892.0    1        7380.0      1199052.0   \n",
       "88975             359678.0    1         710.0      3300414.0   \n",
       "20349             216436.0    1         719.0      1308454.0   \n",
       "5731              405086.0    1        7400.0      1431916.0   \n",
       "\n",
       "      Years in current job Home Ownership Purpose  Monthly Debt  \\\n",
       "96107                    1              3       3      36970.58   \n",
       "75344                    6              1       3      23381.40   \n",
       "88975                    7              1       3      71508.97   \n",
       "20349                    1              3       3      18209.41   \n",
       "5731                     5              1       5      15548.27   \n",
       "\n",
       "       Years of Credit History  Number of Open Accounts  \\\n",
       "96107                     22.7                     12.0   \n",
       "75344                     24.5                     12.0   \n",
       "88975                     14.2                     17.0   \n",
       "20349                      8.2                      9.0   \n",
       "5731                      22.7                     13.0   \n",
       "\n",
       "       Number of Credit Problems  Current Credit Balance  Maximum Open Credit  \\\n",
       "96107                        0.0                315248.0             651816.0   \n",
       "75344                        1.0                161120.0             690976.0   \n",
       "88975                        0.0               5173491.0            6909298.0   \n",
       "20349                        0.0                138909.0             235818.0   \n",
       "5731                         1.0                 25764.0             234960.0   \n",
       "\n",
       "       Tax Liens  \n",
       "96107        0.0  \n",
       "75344        0.0  \n",
       "88975        0.0  \n",
       "20349        0.0  \n",
       "5731         0.0  "
      ]
     },
     "execution_count": 132,
     "metadata": {},
     "output_type": "execute_result"
    }
   ],
   "source": [
    "X_train.head()"
   ]
  },
  {
   "cell_type": "code",
   "execution_count": 133,
   "metadata": {
    "scrolled": true
   },
   "outputs": [
    {
     "data": {
      "text/html": [
       "<div>\n",
       "<style scoped>\n",
       "    .dataframe tbody tr th:only-of-type {\n",
       "        vertical-align: middle;\n",
       "    }\n",
       "\n",
       "    .dataframe tbody tr th {\n",
       "        vertical-align: top;\n",
       "    }\n",
       "\n",
       "    .dataframe thead th {\n",
       "        text-align: right;\n",
       "    }\n",
       "</style>\n",
       "<table border=\"1\" class=\"dataframe\">\n",
       "  <thead>\n",
       "    <tr style=\"text-align: right;\">\n",
       "      <th></th>\n",
       "      <th>Current Loan Amount</th>\n",
       "      <th>Term</th>\n",
       "      <th>Credit Score</th>\n",
       "      <th>Annual Income</th>\n",
       "      <th>Years in current job</th>\n",
       "      <th>Home Ownership</th>\n",
       "      <th>Purpose</th>\n",
       "      <th>Monthly Debt</th>\n",
       "      <th>Years of Credit History</th>\n",
       "      <th>Number of Open Accounts</th>\n",
       "      <th>Number of Credit Problems</th>\n",
       "      <th>Current Credit Balance</th>\n",
       "      <th>Maximum Open Credit</th>\n",
       "      <th>Tax Liens</th>\n",
       "    </tr>\n",
       "  </thead>\n",
       "  <tbody>\n",
       "    <tr>\n",
       "      <th>83369</th>\n",
       "      <td>301070.0</td>\n",
       "      <td>0</td>\n",
       "      <td>685.0</td>\n",
       "      <td>771856.0</td>\n",
       "      <td>2</td>\n",
       "      <td>1</td>\n",
       "      <td>3</td>\n",
       "      <td>18395.80</td>\n",
       "      <td>13.5</td>\n",
       "      <td>8.0</td>\n",
       "      <td>0.0</td>\n",
       "      <td>88198.0</td>\n",
       "      <td>203456.0</td>\n",
       "      <td>0.0</td>\n",
       "    </tr>\n",
       "    <tr>\n",
       "      <th>63492</th>\n",
       "      <td>257576.0</td>\n",
       "      <td>0</td>\n",
       "      <td>722.0</td>\n",
       "      <td>889846.0</td>\n",
       "      <td>1</td>\n",
       "      <td>1</td>\n",
       "      <td>3</td>\n",
       "      <td>12902.71</td>\n",
       "      <td>15.6</td>\n",
       "      <td>18.0</td>\n",
       "      <td>0.0</td>\n",
       "      <td>582407.0</td>\n",
       "      <td>907632.0</td>\n",
       "      <td>0.0</td>\n",
       "    </tr>\n",
       "    <tr>\n",
       "      <th>95236</th>\n",
       "      <td>761772.0</td>\n",
       "      <td>1</td>\n",
       "      <td>704.0</td>\n",
       "      <td>2725531.0</td>\n",
       "      <td>3</td>\n",
       "      <td>1</td>\n",
       "      <td>3</td>\n",
       "      <td>16103.26</td>\n",
       "      <td>16.8</td>\n",
       "      <td>19.0</td>\n",
       "      <td>0.0</td>\n",
       "      <td>464721.0</td>\n",
       "      <td>2260940.0</td>\n",
       "      <td>0.0</td>\n",
       "    </tr>\n",
       "    <tr>\n",
       "      <th>92546</th>\n",
       "      <td>613404.0</td>\n",
       "      <td>0</td>\n",
       "      <td>691.0</td>\n",
       "      <td>1702818.0</td>\n",
       "      <td>1</td>\n",
       "      <td>1</td>\n",
       "      <td>3</td>\n",
       "      <td>42144.66</td>\n",
       "      <td>19.5</td>\n",
       "      <td>15.0</td>\n",
       "      <td>0.0</td>\n",
       "      <td>444714.0</td>\n",
       "      <td>901824.0</td>\n",
       "      <td>0.0</td>\n",
       "    </tr>\n",
       "    <tr>\n",
       "      <th>84422</th>\n",
       "      <td>154748.0</td>\n",
       "      <td>1</td>\n",
       "      <td>708.0</td>\n",
       "      <td>928131.0</td>\n",
       "      <td>8</td>\n",
       "      <td>1</td>\n",
       "      <td>3</td>\n",
       "      <td>8948.62</td>\n",
       "      <td>17.3</td>\n",
       "      <td>10.0</td>\n",
       "      <td>0.0</td>\n",
       "      <td>112689.0</td>\n",
       "      <td>266288.0</td>\n",
       "      <td>0.0</td>\n",
       "    </tr>\n",
       "  </tbody>\n",
       "</table>\n",
       "</div>"
      ],
      "text/plain": [
       "       Current Loan Amount Term  Credit Score  Annual Income  \\\n",
       "83369             301070.0    0         685.0       771856.0   \n",
       "63492             257576.0    0         722.0       889846.0   \n",
       "95236             761772.0    1         704.0      2725531.0   \n",
       "92546             613404.0    0         691.0      1702818.0   \n",
       "84422             154748.0    1         708.0       928131.0   \n",
       "\n",
       "      Years in current job Home Ownership Purpose  Monthly Debt  \\\n",
       "83369                    2              1       3      18395.80   \n",
       "63492                    1              1       3      12902.71   \n",
       "95236                    3              1       3      16103.26   \n",
       "92546                    1              1       3      42144.66   \n",
       "84422                    8              1       3       8948.62   \n",
       "\n",
       "       Years of Credit History  Number of Open Accounts  \\\n",
       "83369                     13.5                      8.0   \n",
       "63492                     15.6                     18.0   \n",
       "95236                     16.8                     19.0   \n",
       "92546                     19.5                     15.0   \n",
       "84422                     17.3                     10.0   \n",
       "\n",
       "       Number of Credit Problems  Current Credit Balance  Maximum Open Credit  \\\n",
       "83369                        0.0                 88198.0             203456.0   \n",
       "63492                        0.0                582407.0             907632.0   \n",
       "95236                        0.0                464721.0            2260940.0   \n",
       "92546                        0.0                444714.0             901824.0   \n",
       "84422                        0.0                112689.0             266288.0   \n",
       "\n",
       "       Tax Liens  \n",
       "83369        0.0  \n",
       "63492        0.0  \n",
       "95236        0.0  \n",
       "92546        0.0  \n",
       "84422        0.0  "
      ]
     },
     "execution_count": 133,
     "metadata": {},
     "output_type": "execute_result"
    }
   ],
   "source": [
    "X_test.head()"
   ]
  },
  {
   "cell_type": "markdown",
   "metadata": {},
   "source": [
    "## Training the data set using Classification models"
   ]
  },
  {
   "cell_type": "code",
   "execution_count": 134,
   "metadata": {},
   "outputs": [
    {
     "data": {
      "text/plain": [
       "LogisticRegression(max_iter=200, random_state=0)"
      ]
     },
     "execution_count": 134,
     "metadata": {},
     "output_type": "execute_result"
    }
   ],
   "source": [
    "#Logistic Regression\n",
    "from sklearn.linear_model import LogisticRegression\n",
    "classifier_lg = LogisticRegression(random_state = 0,max_iter=200)\n",
    "classifier_lg.fit(X_train, y_train)"
   ]
  },
  {
   "cell_type": "code",
   "execution_count": 135,
   "metadata": {},
   "outputs": [
    {
     "data": {
      "text/plain": [
       "KNeighborsClassifier()"
      ]
     },
     "execution_count": 135,
     "metadata": {},
     "output_type": "execute_result"
    }
   ],
   "source": [
    "#K-nn\n",
    "from sklearn.neighbors import KNeighborsClassifier\n",
    "classifier_knn = KNeighborsClassifier(n_neighbors = 5, metric = 'minkowski', p = 2)\n",
    "classifier_knn.fit(X_train, y_train)"
   ]
  },
  {
   "cell_type": "code",
   "execution_count": 160,
   "metadata": {},
   "outputs": [
    {
     "data": {
      "text/plain": [
       "RandomForestClassifier(max_depth=9, n_estimators=800)"
      ]
     },
     "execution_count": 160,
     "metadata": {},
     "output_type": "execute_result"
    }
   ],
   "source": [
    "#Random Forest\n",
    "from sklearn.ensemble import RandomForestClassifier\n",
    "classifier_rf=RandomForestClassifier(n_estimators=800,max_depth=9)\n",
    "classifier_rf.fit(X_train, y_train)"
   ]
  },
  {
   "cell_type": "code",
   "execution_count": 161,
   "metadata": {},
   "outputs": [],
   "source": [
    "y_pred_lg = classifier_lg.predict(X_test)\n",
    "y_pred_knn = classifier_knn.predict(X_test)\n",
    "y_pred_rf = classifier_rf.predict(X_test)"
   ]
  },
  {
   "cell_type": "code",
   "execution_count": 218,
   "metadata": {},
   "outputs": [
    {
     "data": {
      "image/png": "[encoded data removed]",
      "text/plain": [
       "<Figure size 432x288 with 1 Axes>"
      ]
     },
     "metadata": {
      "needs_background": "light"
     },
     "output_type": "display_data"
    },
    {
     "data": {
      "image/png": "[encoded data removed]",
      "text/plain": [
       "<Figure size 432x288 with 1 Axes>"
      ]
     },
     "metadata": {
      "needs_background": "light"
     },
     "output_type": "display_data"
    },
    {
     "data": {
      "image/png": "[encoded data removed]",
      "text/plain": [
       "<Figure size 432x288 with 1 Axes>"
      ]
     },
     "metadata": {
      "needs_background": "light"
     },
     "output_type": "display_data"
    }
   ],
   "source": [
    "from sklearn.metrics import confusion_matrix, ConfusionMatrixDisplay\n",
    "from mlxtend.evaluate import confusion_matrix\n",
    "from mlxtend.plotting import plot_confusion_matrix\n",
    "\n",
    "class_names = ['ChargedOff','Fullypaid']\n",
    "cm_lg = confusion_matrix(y_test, y_pred_lg)\n",
    "fig,ax=plot_confusion_matrix(conf_mat=cm_lg,class_names=class_names)\n",
    "\n",
    "plt.title(\"Linear Regression\")\n",
    "\n",
    "class_names = ['ChargedOff','Fullypaid']\n",
    "cm_knn = confusion_matrix(y_test, y_pred_knn)\n",
    "fig,ax=plot_confusion_matrix(conf_mat=cm_knn,class_names=class_names)\n",
    "plt.title(\"Knn\")\n",
    "\n",
    "class_names = ['ChargedOff','Fullypaid']\n",
    "cm_rf = confusion_matrix(y_test, y_pred_rf)\n",
    "fig,ax=plot_confusion_matrix(conf_mat=cm_rf,class_names=class_names)\n",
    "plt.title(\"Random Forest\")\n",
    "\n",
    "plt.show()\n"
   ]
  },
  {
   "cell_type": "code",
   "execution_count": 174,
   "metadata": {},
   "outputs": [
    {
     "name": "stdout",
     "output_type": "stream",
     "text": [
      "Accuracy of Logistic Regression:  0.8422446080330621\n",
      "Accuracy of Knn:  0.7555856903009169\n",
      "Accuracy of Random forest: 0.8468293942916182\n"
     ]
    }
   ],
   "source": [
    "from sklearn.metrics import  accuracy_score\n",
    "print(\"Accuracy of Logistic Regression: \",accuracy_score(y_test,y_pred_lg))\n",
    "print(\"Accuracy of Knn: \",accuracy_score(y_test,y_pred_knn))\n",
    "print(\"Accuracy of Random forest:\",accuracy_score(y_test,y_pred_rf))"
   ]
  },
  {
   "cell_type": "code",
   "execution_count": 158,
   "metadata": {},
   "outputs": [],
   "source": [
    "from sklearn.metrics import classification_report"
   ]
  },
  {
   "cell_type": "code",
   "execution_count": 164,
   "metadata": {},
   "outputs": [
    {
     "name": "stdout",
     "output_type": "stream",
     "text": [
      "Logistic Regression:\n",
      "              precision    recall  f1-score   support\n",
      "\n",
      "           0       0.93      0.28      0.44      3313\n",
      "           1       0.84      0.99      0.91     12173\n",
      "\n",
      "    accuracy                           0.84     15486\n",
      "   macro avg       0.88      0.64      0.67     15486\n",
      "weighted avg       0.86      0.84      0.81     15486\n",
      "\n",
      "K Nearest Neighbours:\n",
      "              precision    recall  f1-score   support\n",
      "\n",
      "           0       0.33      0.14      0.20      3313\n",
      "           1       0.80      0.92      0.86     12173\n",
      "\n",
      "    accuracy                           0.76     15486\n",
      "   macro avg       0.56      0.53      0.53     15486\n",
      "weighted avg       0.70      0.76      0.71     15486\n",
      "\n",
      "Random Forest:\n",
      "              precision    recall  f1-score   support\n",
      "\n",
      "           0       1.00      0.28      0.44      3313\n",
      "           1       0.84      1.00      0.91     12173\n",
      "\n",
      "    accuracy                           0.85     15486\n",
      "   macro avg       0.92      0.64      0.68     15486\n",
      "weighted avg       0.87      0.85      0.81     15486\n",
      "\n"
     ]
    }
   ],
   "source": [
    "print(\"Logistic Regression:\")\n",
    "print(classification_report(y_test,y_pred_lg))\n",
    "print(\"K Nearest Neighbours:\")\n",
    "print(classification_report(y_test,y_pred_knn))\n",
    "print(\"Random Forest:\")\n",
    "print(classification_report(y_test,y_pred_rf))"
   ]
  },
  {
   "cell_type": "markdown",
   "metadata": {},
   "source": [
    "## Training by balancing the data"
   ]
  },
  {
   "cell_type": "code",
   "execution_count": 176,
   "metadata": {},
   "outputs": [
    {
     "data": {
      "image/png": "[encoded data removed]",
      "text/plain": [
       "<Figure size 432x288 with 1 Axes>"
      ]
     },
     "metadata": {
      "needs_background": "light"
     },
     "output_type": "display_data"
    }
   ],
   "source": [
    "y_train.value_counts().plot(kind='bar')\n",
    "plt.plot()\n",
    "plt.show()"
   ]
  },
  {
   "cell_type": "code",
   "execution_count": 207,
   "metadata": {},
   "outputs": [],
   "source": [
    "class_weight=dict({0:1,1:200})"
   ]
  },
  {
   "cell_type": "code",
   "execution_count": 208,
   "metadata": {},
   "outputs": [
    {
     "data": {
      "text/plain": [
       "RandomForestClassifier(class_weight={0: 1, 1: 200})"
      ]
     },
     "execution_count": 208,
     "metadata": {},
     "output_type": "execute_result"
    }
   ],
   "source": [
    "classifier_rf1=RandomForestClassifier(class_weight=class_weight)\n",
    "classifier_rf1.fit(X_train,y_train)"
   ]
  },
  {
   "cell_type": "code",
   "execution_count": 209,
   "metadata": {},
   "outputs": [],
   "source": [
    "y_pred_rf1 = classifier_rf1.predict(X_test)"
   ]
  },
  {
   "cell_type": "code",
   "execution_count": 219,
   "metadata": {},
   "outputs": [
    {
     "data": {
      "image/png": "[encoded data removed]",
      "text/plain": [
       "<Figure size 432x288 with 1 Axes>"
      ]
     },
     "metadata": {
      "needs_background": "light"
     },
     "output_type": "display_data"
    },
    {
     "data": {
      "image/png": "[encoded data removed]",
      "text/plain": [
       "<Figure size 432x288 with 1 Axes>"
      ]
     },
     "metadata": {
      "needs_background": "light"
     },
     "output_type": "display_data"
    }
   ],
   "source": [
    "class_names = ['ChargedOff','Fullypaid']\n",
    "cm_rf = confusion_matrix(y_test, y_pred_rf)\n",
    "fig,ax=plot_confusion_matrix(conf_mat=cm_rf,class_names=class_names)\n",
    "plt.title(\"Random Forest\")\n",
    "\n",
    "class_names = ['ChargedOff','Fullypaid']\n",
    "cm_rf1 = confusion_matrix(y_test, y_pred_rf1)\n",
    "fig,ax=plot_confusion_matrix(conf_mat=cm_rf1,class_names=class_names)\n",
    "plt.title(\"Random Forest\")\n",
    "plt.show()\n",
    "\n"
   ]
  },
  {
   "cell_type": "code",
   "execution_count": 175,
   "metadata": {},
   "outputs": [
    {
     "name": "stdout",
     "output_type": "stream",
     "text": [
      "Random Forest:\n",
      "Accuracy of Random forest: 0.8468293942916182\n",
      "              precision    recall  f1-score   support\n",
      "\n",
      "           0       0.91      0.31      0.46      3313\n",
      "           1       0.84      0.99      0.91     12173\n",
      "\n",
      "    accuracy                           0.85     15486\n",
      "   macro avg       0.88      0.65      0.69     15486\n",
      "weighted avg       0.86      0.85      0.81     15486\n",
      "\n"
     ]
    }
   ],
   "source": [
    "print(\"Random Forest:\")\n",
    "print(\"Accuracy of Random forest:\",accuracy_score(y_test,y_pred_rf))\n",
    "print(classification_report(y_test,y_pred_rf1))"
   ]
  }
 ],
 "metadata": {
  "kernelspec": {
   "display_name": "Python 3",
   "language": "python",
   "name": "python3"
  },
  "language_info": {
   "codemirror_mode": {
    "name": "ipython",
    "version": 3
   },
   "file_extension": ".py",
   "mimetype": "text/x-python",
   "name": "python",
   "nbconvert_exporter": "python",
   "pygments_lexer": "ipython3",
   "version": "3.8.5"
  }
 },
 "nbformat": 4,
 "nbformat_minor": 4
}
